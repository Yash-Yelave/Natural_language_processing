{
  "nbformat": 4,
  "nbformat_minor": 0,
  "metadata": {
    "colab": {
      "provenance": [],
      "authorship_tag": "ABX9TyMihWDY+l8GXM+uYuk0GJ8w",
      "include_colab_link": true
    },
    "kernelspec": {
      "name": "python3",
      "display_name": "Python 3"
    },
    "language_info": {
      "name": "python"
    }
  },
  "cells": [
    {
      "cell_type": "markdown",
      "metadata": {
        "id": "view-in-github",
        "colab_type": "text"
      },
      "source": [
        "<a href=\"https://colab.research.google.com/github/Yash-Yelave/Natural_language_processing/blob/main/NLP_PR2.ipynb\" target=\"_parent\"><img src=\"https://colab.research.google.com/assets/colab-badge.svg\" alt=\"Open In Colab\"/></a>"
      ]
    },
    {
      "cell_type": "code",
      "source": [
        "import nltk\n",
        "from nltk import ne_chunk, pos_tag, word_tokenize\n",
        "from nltk.tree import Tree\n",
        "\n",
        "# Download required NLTK data (covering all cases)\n",
        "nltk.download(\"maxent_ne_chunker\")\n",
        "nltk.download(\"maxent_ne_chunker_tab\")\n",
        "nltk.download(\"words\")\n",
        "nltk.download(\"punkt\")\n",
        "nltk.download(\"punkt_tab\")\n",
        "nltk.download(\"averaged_perceptron_tagger\")\n",
        "nltk.download(\"averaged_perceptron_tagger_eng\")\n",
        "\n",
        "\n",
        "def perform_ner_nltk(text):\n",
        "    # Tokenize and POS tag\n",
        "    tokens = word_tokenize(text)\n",
        "    pos_tags = pos_tag(tokens)\n",
        "\n",
        "    # Perform NER\n",
        "    named_entities = ne_chunk(pos_tags)\n",
        "\n",
        "    # Extract named entities\n",
        "    entities = []\n",
        "    for chunk in named_entities:\n",
        "        if isinstance(chunk, Tree):\n",
        "            entity = \" \".join(token for token, pos in chunk.leaves())\n",
        "            label = chunk.label()\n",
        "            entities.append((entity, label))\n",
        "\n",
        "    return entities\n",
        "\n",
        "# Example usage\n",
        "text = \"Reliance Industries, led by Mukesh Ambani, announced a new partnership\"\n",
        "entities = perform_ner_nltk(text)\n",
        "\n",
        "print(\"Named Entities:\")\n",
        "for entity, label in entities:\n",
        "    print(f\"{entity} ({label})\")"
      ],
      "metadata": {
        "colab": {
          "base_uri": "https://localhost:8080/",
          "height": 0
        },
        "id": "hnZV4zImu-sm",
        "outputId": "a86a9b76-426a-4e93-db06-16a199ca8819"
      },
      "execution_count": 1,
      "outputs": [
        {
          "output_type": "stream",
          "name": "stderr",
          "text": [
            "[nltk_data] Downloading package maxent_ne_chunker to\n",
            "[nltk_data]     /root/nltk_data...\n",
            "[nltk_data]   Unzipping chunkers/maxent_ne_chunker.zip.\n",
            "[nltk_data] Downloading package maxent_ne_chunker_tab to\n",
            "[nltk_data]     /root/nltk_data...\n",
            "[nltk_data]   Unzipping chunkers/maxent_ne_chunker_tab.zip.\n",
            "[nltk_data] Downloading package words to /root/nltk_data...\n",
            "[nltk_data]   Unzipping corpora/words.zip.\n",
            "[nltk_data] Downloading package punkt to /root/nltk_data...\n",
            "[nltk_data]   Unzipping tokenizers/punkt.zip.\n",
            "[nltk_data] Downloading package punkt_tab to /root/nltk_data...\n",
            "[nltk_data]   Unzipping tokenizers/punkt_tab.zip.\n",
            "[nltk_data] Downloading package averaged_perceptron_tagger to\n",
            "[nltk_data]     /root/nltk_data...\n",
            "[nltk_data]   Unzipping taggers/averaged_perceptron_tagger.zip.\n",
            "[nltk_data] Downloading package averaged_perceptron_tagger_eng to\n",
            "[nltk_data]     /root/nltk_data...\n",
            "[nltk_data]   Unzipping taggers/averaged_perceptron_tagger_eng.zip.\n"
          ]
        },
        {
          "output_type": "stream",
          "name": "stdout",
          "text": [
            "Named Entities:\n",
            "Reliance (GPE)\n",
            "Industries (ORGANIZATION)\n",
            "Mukesh Ambani (PERSON)\n"
          ]
        }
      ]
    },
    {
      "cell_type": "markdown",
      "source": [
        "# Using Spacy"
      ],
      "metadata": {
        "id": "bgYIbqFZPyXg"
      }
    },
    {
      "cell_type": "code",
      "source": [
        "import spacy\n",
        "\n",
        "nlp = spacy.load(\"en_core_web_sm\")\n",
        "\n",
        "text = \"On 15th August 2023, Microsoft announced a partnership with the Indian government in New Delhi. Satya Nadella, the CEO of Microsoft, stated that the collaboration would focus on Artificial Intelligence research and digital innovation. Earlier in 2022, Google had launched a similar initiative in Bengaluru, where Sundar Pichai highlighted the importance of AI in education and healthcare.\"\n",
        "doc = nlp(text)\n",
        "\n",
        "print(\"Named Entities, Phrases, and Labels:\")\n",
        "for ent in doc.ents:\n",
        "    print(f\"{ent.text:<20} | {ent.label_:<10} | {spacy.explain(ent.label_)}\")\n"
      ],
      "metadata": {
        "colab": {
          "base_uri": "https://localhost:8080/",
          "height": 0
        },
        "id": "EUDkXib7wk8j",
        "outputId": "99cf1f5d-e644-48d5-9092-f19b141b28fc"
      },
      "execution_count": 2,
      "outputs": [
        {
          "output_type": "stream",
          "name": "stdout",
          "text": [
            "Named Entities, Phrases, and Labels:\n",
            "15th                 | ORDINAL    | \"first\", \"second\", etc.\n",
            "August 2023          | DATE       | Absolute or relative dates or periods\n",
            "Microsoft            | ORG        | Companies, agencies, institutions, etc.\n",
            "Indian               | NORP       | Nationalities or religious or political groups\n",
            "New Delhi            | GPE        | Countries, cities, states\n",
            "Satya Nadella        | PERSON     | People, including fictional\n",
            "Microsoft            | ORG        | Companies, agencies, institutions, etc.\n",
            "Artificial Intelligence | ORG        | Companies, agencies, institutions, etc.\n",
            "2022                 | DATE       | Absolute or relative dates or periods\n",
            "Google               | ORG        | Companies, agencies, institutions, etc.\n",
            "Bengaluru            | GPE        | Countries, cities, states\n",
            "Sundar Pichai        | ORG        | Companies, agencies, institutions, etc.\n",
            "AI                   | GPE        | Countries, cities, states\n"
          ]
        }
      ]
    }
  ]
}