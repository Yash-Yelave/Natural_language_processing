{
  "nbformat": 4,
  "nbformat_minor": 0,
  "metadata": {
    "colab": {
      "provenance": [],
      "authorship_tag": "ABX9TyMQrnuUw89DmiJzcvU3avD4",
      "include_colab_link": true
    },
    "kernelspec": {
      "name": "python3",
      "display_name": "Python 3"
    },
    "language_info": {
      "name": "python"
    }
  },
  "cells": [
    {
      "cell_type": "markdown",
      "metadata": {
        "id": "view-in-github",
        "colab_type": "text"
      },
      "source": [
        "<a href=\"https://colab.research.google.com/github/Yash-Yelave/Natural_language_processing/blob/main/NLP_PR3.ipynb\" target=\"_parent\"><img src=\"https://colab.research.google.com/assets/colab-badge.svg\" alt=\"Open In Colab\"/></a>"
      ]
    },
    {
      "cell_type": "code",
      "execution_count": 1,
      "metadata": {
        "colab": {
          "base_uri": "https://localhost:8080/"
        },
        "id": "QWlcJJJ-zQPa",
        "outputId": "5f6b7d11-9b13-481d-f536-b923a7c852d8"
      },
      "outputs": [
        {
          "output_type": "stream",
          "name": "stdout",
          "text": [
            "Morphological Analysis using spacy:\n",
            "--------------------------------------------------\n",
            " Word: The\n",
            "  Lemma: the\n",
            "  Morphology: Definite=Def|PronType=Art\n",
            "  Stop word: True\n",
            "\n",
            " Word: company\n",
            "  Lemma: company\n",
            "  Morphology: Number=Sing\n",
            "  Stop word: False\n",
            "\n",
            " Word: profits\n",
            "  Lemma: profit\n",
            "  Morphology: Number=Plur\n",
            "  Stop word: False\n",
            "\n",
            " Word: have\n",
            "  Lemma: have\n",
            "  Morphology: Mood=Ind|Tense=Pres|VerbForm=Fin\n",
            "  Stop word: True\n",
            "\n",
            " Word: increased\n",
            "  Lemma: increase\n",
            "  Morphology: Aspect=Perf|Tense=Past|VerbForm=Part\n",
            "  Stop word: False\n",
            "\n",
            " Word: by\n",
            "  Lemma: by\n",
            "  Morphology: \n",
            "  Stop word: True\n",
            "\n",
            " Word: this\n",
            "  Lemma: this\n",
            "  Morphology: Number=Sing|PronType=Dem\n",
            "  Stop word: True\n",
            "\n",
            " Word: quarter\n",
            "  Lemma: quarter\n",
            "  Morphology: Number=Sing\n",
            "  Stop word: False\n",
            "\n",
            "\n",
            "Words starting with 'soun' by spacy method:\n",
            "1. sounded\n",
            "2. sound\n",
            "3. sounding\n",
            "4. soundly\n",
            "5. soundtrack\n",
            "6. soundness\n",
            "7. sounds\n",
            "8. soundings\n"
          ]
        }
      ],
      "source": [
        "import spacy\n",
        "\n",
        "nlp = spacy.load(\"en_core_web_sm\")\n",
        "\n",
        "# Function for morphological analysis using spacy\n",
        "def morphological_analysis(text):\n",
        "    doc = nlp(text)\n",
        "    morph_analysis = []\n",
        "\n",
        "    for token in doc:\n",
        "        if token.is_alpha:  # Only process alphabetic tokens\n",
        "            analysis = {\n",
        "                'text': token.text,\n",
        "                'lemma': token.lemma_,\n",
        "                'morph': str(token.morph),\n",
        "                'is_stop': token.is_stop\n",
        "            }\n",
        "            morph_analysis.append((token.text, analysis))\n",
        "    return morph_analysis\n",
        "\n",
        "\n",
        "# Word generation using spacy's vocabulary and patterns\n",
        "def generate_words_spacy(prefix, max_words=10, min_length=3):\n",
        "    generated = set()\n",
        "\n",
        "    # Get all words from spacy's vocabulary that start with the prefix\n",
        "    for word in nlp.vocab.strings:\n",
        "        if (word.startswith(prefix)\n",
        "            and len(word) >= min_length\n",
        "            and word.isalpha()\n",
        "            and nlp.vocab[word].is_alpha):\n",
        "            generated.add(word)\n",
        "    return list(generated)[:max_words]\n",
        "\n",
        "\n",
        "# Example text\n",
        "text = \"The company's profits have increased by 25% this quarter.\"\n",
        "\n",
        "# Perform morphological analysis\n",
        "analysis_result = morphological_analysis(text)\n",
        "print(\"Morphological Analysis using spacy:\")\n",
        "print(\"-\" * 50)\n",
        "\n",
        "for word, analysis in analysis_result:\n",
        "    print(f\" Word: {word}\")\n",
        "    print(f\"  Lemma: {analysis['lemma']}\")\n",
        "    print(f\"  Morphology: {analysis['morph']}\")\n",
        "    print(f\"  Stop word: {analysis['is_stop']}\")\n",
        "    print()\n",
        "\n",
        "# Generate words using spacy's method\n",
        "prefix = \"soun\"\n",
        "print(f\"\\nWords starting with '{prefix}' by spacy method:\")\n",
        "spacy_generated = generate_words_spacy(prefix, max_words=10)\n",
        "for i, genword in enumerate(spacy_generated, 1):\n",
        "    print(f\"{i}. {genword}\")\n"
      ]
    }
  ]
}